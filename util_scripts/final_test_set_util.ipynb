{
 "cells": [
  {
   "cell_type": "code",
   "execution_count": 1,
   "metadata": {},
   "outputs": [],
   "source": [
    "from datasets import load_dataset\n",
    "\n",
    "# Load dataset\n",
    "dataset = load_dataset(\"humarin/chatgpt-paraphrases\")\n",
    "\n",
    "# Get training data\n",
    "train_data = dataset['train']\n",
    "\n",
    "# Create lists to store data\n",
    "texts = []\n",
    "paraphrases_list = []\n",
    "\n",
    "# Filter and collect data\n",
    "for data in train_data:\n",
    "    if data['category'] == 'sentence' and data['source'] == 'cnn_news':\n",
    "        texts.append(data['text'])\n",
    "        paraphrases_list.append(data['paraphrases'])\n",
    "\n",
    "# Create DataFrame and save\n",
    "import pandas as pd\n",
    "df = pd.DataFrame({\n",
    "    'text': texts,\n",
    "    'paraphrases': paraphrases_list\n",
    "})\n",
    "df.to_csv('input_sentences.csv', index=False)"
   ]
  },
  {
   "cell_type": "code",
   "execution_count": 2,
   "metadata": {},
   "outputs": [
    {
     "data": {
      "text/html": [
       "<div>\n",
       "<style scoped>\n",
       "    .dataframe tbody tr th:only-of-type {\n",
       "        vertical-align: middle;\n",
       "    }\n",
       "\n",
       "    .dataframe tbody tr th {\n",
       "        vertical-align: top;\n",
       "    }\n",
       "\n",
       "    .dataframe thead th {\n",
       "        text-align: right;\n",
       "    }\n",
       "</style>\n",
       "<table border=\"1\" class=\"dataframe\">\n",
       "  <thead>\n",
       "    <tr style=\"text-align: right;\">\n",
       "      <th></th>\n",
       "      <th>text</th>\n",
       "      <th>paraphrases</th>\n",
       "    </tr>\n",
       "  </thead>\n",
       "  <tbody>\n",
       "    <tr>\n",
       "      <th>0</th>\n",
       "      <td>Matt Chorley, Mailonline Political Editor .</td>\n",
       "      <td>['The Political Editor of Mailonline is Matt C...</td>\n",
       "    </tr>\n",
       "    <tr>\n",
       "      <th>1</th>\n",
       "      <td>Universities minister David Willetts said all ...</td>\n",
       "      <td>[\"According to David Willetts, universities ca...</td>\n",
       "    </tr>\n",
       "    <tr>\n",
       "      <th>2</th>\n",
       "      <td>Universities cannot be expected to march forei...</td>\n",
       "      <td>['David Willetts, a senior Tory minister, caut...</td>\n",
       "    </tr>\n",
       "    <tr>\n",
       "      <th>3</th>\n",
       "      <td>The universities minister told MailOnline lect...</td>\n",
       "      <td>[\"According to MailOnline, the universities mi...</td>\n",
       "    </tr>\n",
       "    <tr>\n",
       "      <th>4</th>\n",
       "      <td>But he insisted they cannot be forced to track...</td>\n",
       "      <td>['He maintained that they cannot be compelled ...</td>\n",
       "    </tr>\n",
       "  </tbody>\n",
       "</table>\n",
       "</div>"
      ],
      "text/plain": [
       "                                                text  \\\n",
       "0        Matt Chorley, Mailonline Political Editor .   \n",
       "1  Universities minister David Willetts said all ...   \n",
       "2  Universities cannot be expected to march forei...   \n",
       "3  The universities minister told MailOnline lect...   \n",
       "4  But he insisted they cannot be forced to track...   \n",
       "\n",
       "                                         paraphrases  \n",
       "0  ['The Political Editor of Mailonline is Matt C...  \n",
       "1  [\"According to David Willetts, universities ca...  \n",
       "2  ['David Willetts, a senior Tory minister, caut...  \n",
       "3  [\"According to MailOnline, the universities mi...  \n",
       "4  ['He maintained that they cannot be compelled ...  "
      ]
     },
     "execution_count": 2,
     "metadata": {},
     "output_type": "execute_result"
    }
   ],
   "source": [
    "df.head()"
   ]
  },
  {
   "cell_type": "code",
   "execution_count": null,
   "metadata": {},
   "outputs": [],
   "source": [
    "# Convert string representation of list to actual list and take first element\n",
    "df['paraphrases'] = df['paraphrases'].apply(eval).apply(lambda x: x[0])\n",
    "df.head()"
   ]
  },
  {
   "cell_type": "code",
   "execution_count": 12,
   "metadata": {},
   "outputs": [
    {
     "data": {
      "text/plain": [
       "(11629, 4)"
      ]
     },
     "execution_count": 12,
     "metadata": {},
     "output_type": "execute_result"
    }
   ],
   "source": [
    "df_output = pd.read_csv('output_sentences_all.csv', on_bad_lines='skip', encoding='utf-8',) \n",
    "# 显示跳过的行信息\n",
    "df_output.shape"
   ]
  },
  {
   "cell_type": "code",
   "execution_count": 13,
   "metadata": {},
   "outputs": [
    {
     "data": {
      "text/html": [
       "<div>\n",
       "<style scoped>\n",
       "    .dataframe tbody tr th:only-of-type {\n",
       "        vertical-align: middle;\n",
       "    }\n",
       "\n",
       "    .dataframe tbody tr th {\n",
       "        vertical-align: top;\n",
       "    }\n",
       "\n",
       "    .dataframe thead th {\n",
       "        text-align: right;\n",
       "    }\n",
       "</style>\n",
       "<table border=\"1\" class=\"dataframe\">\n",
       "  <thead>\n",
       "    <tr style=\"text-align: right;\">\n",
       "      <th></th>\n",
       "      <th>Original Sentence</th>\n",
       "      <th>Modified Sentence</th>\n",
       "      <th>Modification Type</th>\n",
       "      <th>semantic_relationship</th>\n",
       "    </tr>\n",
       "  </thead>\n",
       "  <tbody>\n",
       "    <tr>\n",
       "      <th>0</th>\n",
       "      <td>Matt Chorley, Mailonline Political Editor .</td>\n",
       "      <td>Corley is a political editor for Mailonline.</td>\n",
       "      <td>RD</td>\n",
       "      <td>Predicted Relationship: entailment with 98.31%...</td>\n",
       "    </tr>\n",
       "    <tr>\n",
       "      <th>1</th>\n",
       "      <td>Matt Chorley, Mailonline Political Editor .</td>\n",
       "      <td>Mailonline's persuasion editor is Matt Chorley.</td>\n",
       "      <td>hypernym</td>\n",
       "      <td>Predicted Relationship: entailment with 85.41%...</td>\n",
       "    </tr>\n",
       "    <tr>\n",
       "      <th>2</th>\n",
       "      <td>Matt Chorley, Mailonline Political Editor .</td>\n",
       "      <td>Matt Chorley isn't a political editor at Mailo...</td>\n",
       "      <td>polarity_negation</td>\n",
       "      <td>Predicted Relationship: contradiction with 99....</td>\n",
       "    </tr>\n",
       "    <tr>\n",
       "      <th>3</th>\n",
       "      <td>Matt Chorley, Mailonline Political Editor .</td>\n",
       "      <td>Mailonline political editor Matt Chorley</td>\n",
       "      <td>RS</td>\n",
       "      <td>Predicted Relationship: entailment with 99.95%...</td>\n",
       "    </tr>\n",
       "    <tr>\n",
       "      <th>4</th>\n",
       "      <td>Matt Chorley, Mailonline Political Editor .</td>\n",
       "      <td>Mailonline's political editor Matt Chorley is ...</td>\n",
       "      <td>antonym</td>\n",
       "      <td>Predicted Relationship: neutral with 88.81% co...</td>\n",
       "    </tr>\n",
       "  </tbody>\n",
       "</table>\n",
       "</div>"
      ],
      "text/plain": [
       "                             Original Sentence  \\\n",
       "0  Matt Chorley, Mailonline Political Editor .   \n",
       "1  Matt Chorley, Mailonline Political Editor .   \n",
       "2  Matt Chorley, Mailonline Political Editor .   \n",
       "3  Matt Chorley, Mailonline Political Editor .   \n",
       "4  Matt Chorley, Mailonline Political Editor .   \n",
       "\n",
       "                                   Modified Sentence  Modification Type  \\\n",
       "0       Corley is a political editor for Mailonline.                 RD   \n",
       "1    Mailonline's persuasion editor is Matt Chorley.           hypernym   \n",
       "2  Matt Chorley isn't a political editor at Mailo...  polarity_negation   \n",
       "3           Mailonline political editor Matt Chorley                 RS   \n",
       "4  Mailonline's political editor Matt Chorley is ...            antonym   \n",
       "\n",
       "                               semantic_relationship  \n",
       "0  Predicted Relationship: entailment with 98.31%...  \n",
       "1  Predicted Relationship: entailment with 85.41%...  \n",
       "2  Predicted Relationship: contradiction with 99....  \n",
       "3  Predicted Relationship: entailment with 99.95%...  \n",
       "4  Predicted Relationship: neutral with 88.81% co...  "
      ]
     },
     "execution_count": 13,
     "metadata": {},
     "output_type": "execute_result"
    }
   ],
   "source": [
    "df_output.head()"
   ]
  },
  {
   "cell_type": "code",
   "execution_count": 17,
   "metadata": {},
   "outputs": [
    {
     "name": "stdout",
     "output_type": "stream",
     "text": [
      "Found 37 problematic rows with float values\n",
      "\n",
      "Sample of problematic rows:\n",
      "                                      Original Sentence  \\\n",
      "3621  A team of scientists has just finished what mi...   \n",
      "3622  A team of scientists has just finished what mi...   \n",
      "7340  The fact that Syd Leroux comes in and changes ...   \n",
      "7341  The fact that Syd Leroux comes in and changes ...   \n",
      "7342  The fact that Syd Leroux comes in and changes ...   \n",
      "\n",
      "                                      Modified Sentence  \\\n",
      "3621  Scientists have just finished surveiling and m...   \n",
      "3622  The unscientific team just finished surveiling...   \n",
      "7340                                                 RD   \n",
      "7341                                           hypernym   \n",
      "7342                                  polarity_negation   \n",
      "\n",
      "                                      Modification Type semantic_relationship  \n",
      "3621  Predicted Relationship: contradiction with 99....                   NaN  \n",
      "3622  Predicted Relationship: contradiction with 99....                   NaN  \n",
      "7340  Predicted Relationship: entailment with 99.81%...                   NaN  \n",
      "7341  Predicted Relationship: entailment with 49.46%...                   NaN  \n",
      "7342  Predicted Relationship: contradiction with 99....                   NaN  \n",
      "\n",
      "After removing float values, DataFrame shape: (11592, 4)\n"
     ]
    }
   ],
   "source": [
    "# First cell: Clean data, remove rows with float type values\n",
    "# Check and print float type values\n",
    "float_mask = df_output['semantic_relationship'].apply(lambda x: isinstance(x, float))\n",
    "problematic_rows = df_output[float_mask]\n",
    "if len(problematic_rows) > 0:\n",
    "    print(f\"Found {len(problematic_rows)} problematic rows with float values\")\n",
    "    print(\"\\nSample of problematic rows:\")\n",
    "    print(problematic_rows[['Original Sentence', 'Modified Sentence', 'Modification Type', 'semantic_relationship']].head())\n",
    "    \n",
    "    # Remove these rows\n",
    "    df_output = df_output[~float_mask]\n",
    "    print(f\"\\nAfter removing float values, DataFrame shape: {df_output.shape}\")\n",
    "else:\n",
    "    print(\"No float values found in semantic_relationship column\")"
   ]
  },
  {
   "cell_type": "code",
   "execution_count": 18,
   "metadata": {},
   "outputs": [
    {
     "data": {
      "text/plain": [
       "(11592, 4)"
      ]
     },
     "execution_count": 18,
     "metadata": {},
     "output_type": "execute_result"
    }
   ],
   "source": [
    "df_output.shape"
   ]
  },
  {
   "cell_type": "code",
   "execution_count": 19,
   "metadata": {},
   "outputs": [
    {
     "name": "stdout",
     "output_type": "stream",
     "text": [
      "Test result: 99.93%\n"
     ]
    }
   ],
   "source": [
    "def extract_confidence(text):\n",
    "    if 'contradiction with' not in text:\n",
    "        return 0\n",
    "    try:\n",
    "        confidence = float(text.split('contradiction with')[1].split('%')[0].strip())\n",
    "        return confidence\n",
    "    except:\n",
    "        return 0\n",
    "\n",
    "test_text = \"Predicted Relationship: contradiction with 99.93% confidence\"\n",
    "print(f\"Test result: {extract_confidence(test_text)}%\")"
   ]
  },
  {
   "cell_type": "code",
   "execution_count": 20,
   "metadata": {},
   "outputs": [
    {
     "name": "stdout",
     "output_type": "stream",
     "text": [
      "Found 3051 rows with high confidence contradictions\n",
      "\n",
      "Sample of filtered data:\n",
      "                                    Original Sentence  \\\n",
      "2         Matt Chorley, Mailonline Political Editor .   \n",
      "8   Universities minister David Willetts said all ...   \n",
      "9   Universities minister David Willetts said all ...   \n",
      "10  Universities cannot be expected to march forei...   \n",
      "12  Universities cannot be expected to march forei...   \n",
      "\n",
      "                                semantic_relationship  \n",
      "2   Predicted Relationship: contradiction with 99....  \n",
      "8   Predicted Relationship: contradiction with 97....  \n",
      "9   Predicted Relationship: contradiction with 99....  \n",
      "10  Predicted Relationship: contradiction with 99....  \n",
      "12  Predicted Relationship: contradiction with 98....  \n"
     ]
    }
   ],
   "source": [
    "# 第三个单元格：筛选高置信度的contradiction记录\n",
    "mask = (df_output['semantic_relationship'].str.contains('contradiction', na=False)) & \\\n",
    "       (df_output['semantic_relationship'].apply(extract_confidence) > 90)\n",
    "\n",
    "high_confidence_contradictions = df_output[mask]\n",
    "\n",
    "print(f\"Found {len(high_confidence_contradictions)} rows with high confidence contradictions\")\n",
    "print(\"\\nSample of filtered data:\")\n",
    "print(high_confidence_contradictions[['Original Sentence', 'semantic_relationship']].head())"
   ]
  },
  {
   "cell_type": "code",
   "execution_count": null,
   "metadata": {},
   "outputs": [],
   "source": [
    "# 第四个单元格：检查原始df中的paraphrases格式\n",
    "print(\"Original df paraphrases format:\")\n",
    "print(df['paraphrases'].head())\n",
    "print(\"\\nAfter eval:\")\n",
    "print(df['paraphrases'].apply(eval).apply(lambda x: x[0]).head())"
   ]
  },
  {
   "cell_type": "code",
   "execution_count": 22,
   "metadata": {},
   "outputs": [
    {
     "name": "stdout",
     "output_type": "stream",
     "text": [
      "Original df paraphrases format:\n",
      "0    The Political Editor of Mailonline is Matt Cho...\n",
      "1    According to David Willetts, universities can ...\n",
      "2    David Willetts, a senior Tory minister, cautio...\n",
      "3    According to MailOnline, the universities mini...\n",
      "4    He maintained that they cannot be compelled to...\n",
      "Name: paraphrases, dtype: object\n",
      "\n",
      "First row type and content:\n",
      "Type: <class 'str'>\n",
      "Content: The Political Editor of Mailonline is Matt Chorley.\n",
      "\n",
      "Trying to use the string directly:\n",
      "The Political Editor of Mailonline is Matt Chorley.\n"
     ]
    }
   ],
   "source": [
    "# 第四个单元格：检查原始df中的paraphrases格式\n",
    "print(\"Original df paraphrases format:\")\n",
    "print(df['paraphrases'].head())\n",
    "\n",
    "# 检查第一行的具体内容和类型\n",
    "print(\"\\nFirst row type and content:\")\n",
    "first_row = df['paraphrases'].iloc[0]\n",
    "print(f\"Type: {type(first_row)}\")\n",
    "print(f\"Content: {first_row}\")\n",
    "\n",
    "# 尝试直接获取第一个元素（如果已经是字符串的话）\n",
    "print(\"\\nTrying to use the string directly:\")\n",
    "print(df['paraphrases'].iloc[0])"
   ]
  },
  {
   "cell_type": "code",
   "execution_count": 23,
   "metadata": {},
   "outputs": [
    {
     "name": "stdout",
     "output_type": "stream",
     "text": [
      "Original df paraphrases format:\n",
      "0    The Political Editor of Mailonline is Matt Cho...\n",
      "1    According to David Willetts, universities can ...\n",
      "2    David Willetts, a senior Tory minister, cautio...\n",
      "3    According to MailOnline, the universities mini...\n",
      "4    He maintained that they cannot be compelled to...\n",
      "Name: paraphrases, dtype: object\n",
      "\n",
      "Data type check:\n",
      "object\n",
      "paraphrases\n",
      "<class 'str'>    80076\n",
      "Name: count, dtype: int64\n"
     ]
    }
   ],
   "source": [
    "# 第四个单元格：检查原始df中的paraphrases格式\n",
    "print(\"Original df paraphrases format:\")\n",
    "print(df['paraphrases'].head())\n",
    "\n",
    "# 确认数据类型\n",
    "print(\"\\nData type check:\")\n",
    "print(df['paraphrases'].dtype)\n",
    "print(df['paraphrases'].apply(type).value_counts())"
   ]
  },
  {
   "cell_type": "code",
   "execution_count": 24,
   "metadata": {},
   "outputs": [
    {
     "name": "stdout",
     "output_type": "stream",
     "text": [
      "Final result shape: (3001, 5)\n",
      "\n",
      "Sample of final results:\n",
      "                                   original_sentence  \\\n",
      "0        Matt Chorley, Mailonline Political Editor .   \n",
      "1  Universities minister David Willetts said all ...   \n",
      "2  Universities minister David Willetts said all ...   \n",
      "3  Universities cannot be expected to march forei...   \n",
      "4  Universities cannot be expected to march forei...   \n",
      "\n",
      "                                   modified_sentence  modification_type  \\\n",
      "0  Matt Chorley isn't a political editor at Mailo...  polarity_negation   \n",
      "1  Home Minister David Blankts said the universit...                 RS   \n",
      "2  University Minister David Blankts said the uni...            antonym   \n",
      "3  Senior Conservative minister David Blankts war...                 RD   \n",
      "4  No senior Conservative minister David Blankets...  polarity_negation   \n",
      "\n",
      "                               semantic_relationship  \\\n",
      "0  Predicted Relationship: contradiction with 99....   \n",
      "1  Predicted Relationship: contradiction with 97....   \n",
      "2  Predicted Relationship: contradiction with 99....   \n",
      "3  Predicted Relationship: contradiction with 99....   \n",
      "4  Predicted Relationship: contradiction with 98....   \n",
      "\n",
      "                                          paraphrase  \n",
      "0  The Political Editor of Mailonline is Matt Cho...  \n",
      "1  According to David Willetts, universities can ...  \n",
      "2  According to David Willetts, universities can ...  \n",
      "3  David Willetts, a senior Tory minister, cautio...  \n",
      "4  David Willetts, a senior Tory minister, cautio...  \n"
     ]
    }
   ],
   "source": [
    "# 第五个单元格：构建结果DataFrame\n",
    "result_rows = []\n",
    "for _, row in high_confidence_contradictions.iterrows():\n",
    "    original_sentence = row['Original Sentence']\n",
    "    matching_row = df[df['text'] == original_sentence]\n",
    "    \n",
    "    if not matching_row.empty:\n",
    "        result_rows.append({\n",
    "            'original_sentence': original_sentence,\n",
    "            'modified_sentence': row['Modified Sentence'],\n",
    "            'modification_type': row['Modification Type'],\n",
    "            'semantic_relationship': row['semantic_relationship'],\n",
    "            'paraphrase': matching_row.iloc[0]['paraphrases']  # 直接使用字符串值\n",
    "        })\n",
    "\n",
    "result_df = pd.DataFrame(result_rows)\n",
    "print(f\"Final result shape: {result_df.shape}\")\n",
    "print(\"\\nSample of final results:\")\n",
    "print(result_df.head())"
   ]
  },
  {
   "cell_type": "code",
   "execution_count": 25,
   "metadata": {},
   "outputs": [
    {
     "name": "stdout",
     "output_type": "stream",
     "text": [
      "Files to process: ['output_sentences_all.csv', 'output_pack1.csv', 'output_pack2.csv', 'output_pack3.csv', 'output_pack4.csv', 'output_pack5.csv']\n"
     ]
    }
   ],
   "source": [
    "output_files = [\n",
    "    'output_sentences_all.csv',\n",
    "    'output_pack1.csv',\n",
    "    'output_pack2.csv',\n",
    "    'output_pack3.csv',\n",
    "    'output_pack4.csv',\n",
    "    'output_pack5.csv'\n",
    "]\n",
    "\n",
    "all_results = []\n",
    "print(\"Files to process:\", output_files)"
   ]
  },
  {
   "cell_type": "code",
   "execution_count": 26,
   "metadata": {},
   "outputs": [
    {
     "name": "stdout",
     "output_type": "stream",
     "text": [
      "Testing with file: output_sentences_all.csv\n",
      "Initial shape: (11629, 4)\n",
      "Found 37 rows with float values\n",
      "Shape after removing float values: (11592, 4)\n",
      "\n",
      "Sample of cleaned data:\n",
      "                             Original Sentence  \\\n",
      "0  Matt Chorley, Mailonline Political Editor .   \n",
      "1  Matt Chorley, Mailonline Political Editor .   \n",
      "2  Matt Chorley, Mailonline Political Editor .   \n",
      "3  Matt Chorley, Mailonline Political Editor .   \n",
      "4  Matt Chorley, Mailonline Political Editor .   \n",
      "\n",
      "                                   Modified Sentence  Modification Type  \\\n",
      "0       Corley is a political editor for Mailonline.                 RD   \n",
      "1    Mailonline's persuasion editor is Matt Chorley.           hypernym   \n",
      "2  Matt Chorley isn't a political editor at Mailo...  polarity_negation   \n",
      "3           Mailonline political editor Matt Chorley                 RS   \n",
      "4  Mailonline's political editor Matt Chorley is ...            antonym   \n",
      "\n",
      "                               semantic_relationship  \n",
      "0  Predicted Relationship: entailment with 98.31%...  \n",
      "1  Predicted Relationship: entailment with 85.41%...  \n",
      "2  Predicted Relationship: contradiction with 99....  \n",
      "3  Predicted Relationship: entailment with 99.95%...  \n",
      "4  Predicted Relationship: neutral with 88.81% co...  \n"
     ]
    }
   ],
   "source": [
    "# 第二个单元格：读取第一个文件测试处理流程\n",
    "test_file = output_files[0]\n",
    "print(f\"Testing with file: {test_file}\")\n",
    "\n",
    "# 读取文件\n",
    "df_output_temp = pd.read_csv(test_file, on_bad_lines='skip', encoding='utf-8')\n",
    "print(f\"Initial shape: {df_output_temp.shape}\")\n",
    "\n",
    "# 清理float值\n",
    "float_mask = df_output_temp['semantic_relationship'].apply(lambda x: isinstance(x, float))\n",
    "if float_mask.any():\n",
    "    print(f\"Found {float_mask.sum()} rows with float values\")\n",
    "    df_output_temp = df_output_temp[~float_mask]\n",
    "    print(f\"Shape after removing float values: {df_output_temp.shape}\")\n",
    "\n",
    "# 显示数据样本\n",
    "print(\"\\nSample of cleaned data:\")\n",
    "print(df_output_temp.head())"
   ]
  },
  {
   "cell_type": "code",
   "execution_count": 27,
   "metadata": {},
   "outputs": [
    {
     "name": "stdout",
     "output_type": "stream",
     "text": [
      "Found 3051 high confidence contradictions in output_sentences_all.csv\n",
      "\n",
      "Sample of high confidence contradictions:\n",
      "                                    Original Sentence  \\\n",
      "2         Matt Chorley, Mailonline Political Editor .   \n",
      "8   Universities minister David Willetts said all ...   \n",
      "9   Universities minister David Willetts said all ...   \n",
      "10  Universities cannot be expected to march forei...   \n",
      "12  Universities cannot be expected to march forei...   \n",
      "\n",
      "                                semantic_relationship  \n",
      "2   Predicted Relationship: contradiction with 99....  \n",
      "8   Predicted Relationship: contradiction with 97....  \n",
      "9   Predicted Relationship: contradiction with 99....  \n",
      "10  Predicted Relationship: contradiction with 99....  \n",
      "12  Predicted Relationship: contradiction with 98....  \n"
     ]
    }
   ],
   "source": [
    "# 第三个单元格：测试筛选高置信度contradiction\n",
    "mask = (df_output_temp['semantic_relationship'].str.contains('contradiction', na=False)) & \\\n",
    "       (df_output_temp['semantic_relationship'].apply(extract_confidence) > 90)\n",
    "\n",
    "high_confidence_temp = df_output_temp[mask]\n",
    "print(f\"Found {len(high_confidence_temp)} high confidence contradictions in {test_file}\")\n",
    "print(\"\\nSample of high confidence contradictions:\")\n",
    "print(high_confidence_temp[['Original Sentence', 'semantic_relationship']].head())"
   ]
  },
  {
   "cell_type": "code",
   "execution_count": 28,
   "metadata": {},
   "outputs": [
    {
     "name": "stdout",
     "output_type": "stream",
     "text": [
      "Test results sample:\n"
     ]
    },
    {
     "data": {
      "text/html": [
       "<div>\n",
       "<style scoped>\n",
       "    .dataframe tbody tr th:only-of-type {\n",
       "        vertical-align: middle;\n",
       "    }\n",
       "\n",
       "    .dataframe tbody tr th {\n",
       "        vertical-align: top;\n",
       "    }\n",
       "\n",
       "    .dataframe thead th {\n",
       "        text-align: right;\n",
       "    }\n",
       "</style>\n",
       "<table border=\"1\" class=\"dataframe\">\n",
       "  <thead>\n",
       "    <tr style=\"text-align: right;\">\n",
       "      <th></th>\n",
       "      <th>original_sentence</th>\n",
       "      <th>modified_sentence</th>\n",
       "      <th>modification_type</th>\n",
       "      <th>semantic_relationship</th>\n",
       "      <th>paraphrase</th>\n",
       "      <th>source_file</th>\n",
       "    </tr>\n",
       "  </thead>\n",
       "  <tbody>\n",
       "    <tr>\n",
       "      <th>0</th>\n",
       "      <td>Matt Chorley, Mailonline Political Editor .</td>\n",
       "      <td>Matt Chorley isn't a political editor at Mailo...</td>\n",
       "      <td>polarity_negation</td>\n",
       "      <td>Predicted Relationship: contradiction with 99....</td>\n",
       "      <td>The Political Editor of Mailonline is Matt Cho...</td>\n",
       "      <td>output_sentences_all.csv</td>\n",
       "    </tr>\n",
       "    <tr>\n",
       "      <th>1</th>\n",
       "      <td>Universities minister David Willetts said all ...</td>\n",
       "      <td>Home Minister David Blankts said the universit...</td>\n",
       "      <td>RS</td>\n",
       "      <td>Predicted Relationship: contradiction with 97....</td>\n",
       "      <td>According to David Willetts, universities can ...</td>\n",
       "      <td>output_sentences_all.csv</td>\n",
       "    </tr>\n",
       "    <tr>\n",
       "      <th>2</th>\n",
       "      <td>Universities minister David Willetts said all ...</td>\n",
       "      <td>University Minister David Blankts said the uni...</td>\n",
       "      <td>antonym</td>\n",
       "      <td>Predicted Relationship: contradiction with 99....</td>\n",
       "      <td>According to David Willetts, universities can ...</td>\n",
       "      <td>output_sentences_all.csv</td>\n",
       "    </tr>\n",
       "    <tr>\n",
       "      <th>3</th>\n",
       "      <td>Universities cannot be expected to march forei...</td>\n",
       "      <td>Senior Conservative minister David Blankts war...</td>\n",
       "      <td>RD</td>\n",
       "      <td>Predicted Relationship: contradiction with 99....</td>\n",
       "      <td>David Willetts, a senior Tory minister, cautio...</td>\n",
       "      <td>output_sentences_all.csv</td>\n",
       "    </tr>\n",
       "    <tr>\n",
       "      <th>4</th>\n",
       "      <td>Universities cannot be expected to march forei...</td>\n",
       "      <td>No senior Conservative minister David Blankets...</td>\n",
       "      <td>polarity_negation</td>\n",
       "      <td>Predicted Relationship: contradiction with 98....</td>\n",
       "      <td>David Willetts, a senior Tory minister, cautio...</td>\n",
       "      <td>output_sentences_all.csv</td>\n",
       "    </tr>\n",
       "  </tbody>\n",
       "</table>\n",
       "</div>"
      ],
      "text/plain": [
       "                                   original_sentence  \\\n",
       "0        Matt Chorley, Mailonline Political Editor .   \n",
       "1  Universities minister David Willetts said all ...   \n",
       "2  Universities minister David Willetts said all ...   \n",
       "3  Universities cannot be expected to march forei...   \n",
       "4  Universities cannot be expected to march forei...   \n",
       "\n",
       "                                   modified_sentence  modification_type  \\\n",
       "0  Matt Chorley isn't a political editor at Mailo...  polarity_negation   \n",
       "1  Home Minister David Blankts said the universit...                 RS   \n",
       "2  University Minister David Blankts said the uni...            antonym   \n",
       "3  Senior Conservative minister David Blankts war...                 RD   \n",
       "4  No senior Conservative minister David Blankets...  polarity_negation   \n",
       "\n",
       "                               semantic_relationship  \\\n",
       "0  Predicted Relationship: contradiction with 99....   \n",
       "1  Predicted Relationship: contradiction with 97....   \n",
       "2  Predicted Relationship: contradiction with 99....   \n",
       "3  Predicted Relationship: contradiction with 99....   \n",
       "4  Predicted Relationship: contradiction with 98....   \n",
       "\n",
       "                                          paraphrase               source_file  \n",
       "0  The Political Editor of Mailonline is Matt Cho...  output_sentences_all.csv  \n",
       "1  According to David Willetts, universities can ...  output_sentences_all.csv  \n",
       "2  According to David Willetts, universities can ...  output_sentences_all.csv  \n",
       "3  David Willetts, a senior Tory minister, cautio...  output_sentences_all.csv  \n",
       "4  David Willetts, a senior Tory minister, cautio...  output_sentences_all.csv  "
      ]
     },
     "execution_count": 28,
     "metadata": {},
     "output_type": "execute_result"
    }
   ],
   "source": [
    "# 第四个单元格：测试构建结果\n",
    "test_results = []\n",
    "for _, row in high_confidence_temp.head().iterrows():  # 只测试前几行\n",
    "    original_sentence = row['Original Sentence']\n",
    "    matching_row = df[df['text'] == original_sentence]\n",
    "    \n",
    "    if not matching_row.empty:\n",
    "        test_results.append({\n",
    "            'original_sentence': original_sentence,\n",
    "            'modified_sentence': row['Modified Sentence'],\n",
    "            'modification_type': row['Modification Type'],\n",
    "            'semantic_relationship': row['semantic_relationship'],\n",
    "            'paraphrase': matching_row.iloc[0]['paraphrases'],\n",
    "            'source_file': test_file\n",
    "        })\n",
    "\n",
    "print(\"Test results sample:\")\n",
    "pd.DataFrame(test_results).head()"
   ]
  },
  {
   "cell_type": "code",
   "execution_count": 29,
   "metadata": {},
   "outputs": [
    {
     "name": "stdout",
     "output_type": "stream",
     "text": [
      "\n",
      "Processing output_sentences_all.csv...\n",
      "File processed: (11629, 4) -> 3051 high confidence samples\n",
      "\n",
      "Processing output_pack1.csv...\n",
      "File processed: (8340, 4) -> 1696 high confidence samples\n",
      "\n",
      "Processing output_pack2.csv...\n",
      "File processed: (8220, 4) -> 1741 high confidence samples\n",
      "\n",
      "Processing output_pack3.csv...\n",
      "File processed: (8155, 4) -> 1738 high confidence samples\n",
      "\n",
      "Processing output_pack4.csv...\n",
      "File processed: (8010, 4) -> 1705 high confidence samples\n",
      "\n",
      "Processing output_pack5.csv...\n",
      "File processed: (8075, 4) -> 1732 high confidence samples\n"
     ]
    }
   ],
   "source": [
    "# 第五个单元格：处理所有文件\n",
    "for file in output_files:\n",
    "    print(f\"\\nProcessing {file}...\")\n",
    "    try:\n",
    "        # 读取文件\n",
    "        df_output_temp = pd.read_csv(file, on_bad_lines='skip', encoding='utf-8')\n",
    "        initial_shape = df_output_temp.shape\n",
    "        \n",
    "        # 清理float值\n",
    "        float_mask = df_output_temp['semantic_relationship'].apply(lambda x: isinstance(x, float))\n",
    "        if float_mask.any():\n",
    "            df_output_temp = df_output_temp[~float_mask]\n",
    "        \n",
    "        # 筛选高置信度contradiction\n",
    "        mask = (df_output_temp['semantic_relationship'].str.contains('contradiction', na=False)) & \\\n",
    "               (df_output_temp['semantic_relationship'].apply(extract_confidence) > 90)\n",
    "        \n",
    "        high_confidence_temp = df_output_temp[mask]\n",
    "        \n",
    "        # 构建结果\n",
    "        for _, row in high_confidence_temp.iterrows():\n",
    "            original_sentence = row['Original Sentence']\n",
    "            matching_row = df[df['text'] == original_sentence]\n",
    "            \n",
    "            if not matching_row.empty:\n",
    "                all_results.append({\n",
    "                    'original_sentence': original_sentence,\n",
    "                    'modified_sentence': row['Modified Sentence'],\n",
    "                    'modification_type': row['Modification Type'],\n",
    "                    'semantic_relationship': row['semantic_relationship'],\n",
    "                    'paraphrase': matching_row.iloc[0]['paraphrases'],\n",
    "                    'source_file': file\n",
    "                })\n",
    "        \n",
    "        print(f\"File processed: {initial_shape} -> {len(high_confidence_temp)} high confidence samples\")\n",
    "                \n",
    "    except Exception as e:\n",
    "        print(f\"Error processing {file}: {str(e)}\")"
   ]
  },
  {
   "cell_type": "code",
   "execution_count": 30,
   "metadata": {},
   "outputs": [
    {
     "name": "stdout",
     "output_type": "stream",
     "text": [
      "Final DataFrame information:\n",
      "Shape: (11456, 6)\n",
      "\n",
      "Samples from each source file:\n",
      "source_file\n",
      "output_sentences_all.csv    3001\n",
      "output_pack3.csv            1709\n",
      "output_pack2.csv            1703\n",
      "output_pack5.csv            1699\n",
      "output_pack1.csv            1676\n",
      "output_pack4.csv            1668\n",
      "Name: count, dtype: int64\n",
      "\n",
      "Sample of final results:\n",
      "                                   original_sentence  \\\n",
      "0        Matt Chorley, Mailonline Political Editor .   \n",
      "1  Universities minister David Willetts said all ...   \n",
      "2  Universities minister David Willetts said all ...   \n",
      "3  Universities cannot be expected to march forei...   \n",
      "4  Universities cannot be expected to march forei...   \n",
      "\n",
      "                                   modified_sentence  modification_type  \\\n",
      "0  Matt Chorley isn't a political editor at Mailo...  polarity_negation   \n",
      "1  Home Minister David Blankts said the universit...                 RS   \n",
      "2  University Minister David Blankts said the uni...            antonym   \n",
      "3  Senior Conservative minister David Blankts war...                 RD   \n",
      "4  No senior Conservative minister David Blankets...  polarity_negation   \n",
      "\n",
      "                               semantic_relationship  \\\n",
      "0  Predicted Relationship: contradiction with 99....   \n",
      "1  Predicted Relationship: contradiction with 97....   \n",
      "2  Predicted Relationship: contradiction with 99....   \n",
      "3  Predicted Relationship: contradiction with 99....   \n",
      "4  Predicted Relationship: contradiction with 98....   \n",
      "\n",
      "                                          paraphrase               source_file  \n",
      "0  The Political Editor of Mailonline is Matt Cho...  output_sentences_all.csv  \n",
      "1  According to David Willetts, universities can ...  output_sentences_all.csv  \n",
      "2  According to David Willetts, universities can ...  output_sentences_all.csv  \n",
      "3  David Willetts, a senior Tory minister, cautio...  output_sentences_all.csv  \n",
      "4  David Willetts, a senior Tory minister, cautio...  output_sentences_all.csv  \n"
     ]
    }
   ],
   "source": [
    "# 第六个单元格：创建最终DataFrame并查看统计信息\n",
    "final_df = pd.DataFrame(all_results)\n",
    "final_df = final_df.drop_duplicates()\n",
    "\n",
    "print(\"Final DataFrame information:\")\n",
    "print(f\"Shape: {final_df.shape}\")\n",
    "print(\"\\nSamples from each source file:\")\n",
    "print(final_df['source_file'].value_counts())\n",
    "print(\"\\nSample of final results:\")\n",
    "print(final_df.head())"
   ]
  },
  {
   "cell_type": "code",
   "execution_count": 31,
   "metadata": {},
   "outputs": [
    {
     "name": "stdout",
     "output_type": "stream",
     "text": [
      "Results saved to chatgpt_test_samples_11456x6.csv\n"
     ]
    }
   ],
   "source": [
    "# 第七个单元格：保存结果\n",
    "output_filename = f\"chatgpt_test_samples_{final_df.shape[0]}x{final_df.shape[1]}.csv\"\n",
    "final_df.to_csv(output_filename, index=False)\n",
    "print(f\"Results saved to {output_filename}\")"
   ]
  },
  {
   "cell_type": "code",
   "execution_count": 33,
   "metadata": {},
   "outputs": [
    {
     "name": "stdout",
     "output_type": "stream",
     "text": [
      "Source file shape: (2000, 2)\n",
      "\n",
      "Source file sample:\n",
      "                                           sentence1  \\\n",
      "0  The exception was between late 2005 and 2009 w...   \n",
      "1  The Tabaci River is a tributary of the River L...   \n",
      "2  He played with the A-level Kane County Cougars...   \n",
      "3  Winarsky is a member of the IEEE , Phi Beta Ka...   \n",
      "4  In 1938 he became the government anthropologis...   \n",
      "\n",
      "                                           sentence2  \n",
      "0  The exception was between late 2005 and 2009 ,...  \n",
      "1  The Leurda River is a tributary of the River T...  \n",
      "2  He played in 1993 with the A - Level Portland ...  \n",
      "3  Winarsky is a member of ACM , the IEEE , the P...  \n",
      "4  In 1938 he became the Government Anthropologis...  \n",
      "\n",
      "Output paws shape: (9995, 4)\n",
      "\n",
      "Output paws sample:\n",
      "                                   Original Sentence  \\\n",
      "0  The Tabaci River is a tributary of the River L...   \n",
      "1  The Tabaci River is a tributary of the River L...   \n",
      "2  The Tabaci River is a tributary of the River L...   \n",
      "3  The Tabaci River is a tributary of the River L...   \n",
      "4  The Tabaci River is a tributary of the River L...   \n",
      "\n",
      "                                   Modified Sentence  Modification Type  \\\n",
      "0  The River Leurda is a tributary of the River L...                 RD   \n",
      "1  The Tabaci River is a tributary of the River L...           hypernym   \n",
      "2  The Tabaci River is a tributary of the River L...  polarity_negation   \n",
      "3  b>River Lorda/b> (Romanian: b>River Lorda/b>) ...                 RS   \n",
      "4  The Tabaci River is a tributary of the River L...            antonym   \n",
      "\n",
      "                               semantic_relationship  \n",
      "0  Predicted Relationship: neutral with 91.07% co...  \n",
      "1  Predicted Relationship: entailment with 45.70%...  \n",
      "2  Predicted Relationship: entailment with 45.70%...  \n",
      "3  Predicted Relationship: neutral with 78.28% co...  \n",
      "4  Predicted Relationship: entailment with 45.70%...  \n"
     ]
    }
   ],
   "source": [
    "# 第一个单元格：读取源文件和output_paws\n",
    "# 读取源文件\n",
    "paws_source = pd.read_csv('paws_x_en_test_sentences.csv')\n",
    "print(\"Source file shape:\", paws_source.shape)\n",
    "print(\"\\nSource file sample:\")\n",
    "print(paws_source.head())\n",
    "\n",
    "# 读取output_paws\n",
    "df_paws = pd.read_csv('output_paws.csv', on_bad_lines='skip', encoding='utf-8')\n",
    "print(\"\\nOutput paws shape:\", df_paws.shape)\n",
    "print(\"\\nOutput paws sample:\")\n",
    "print(df_paws.head())"
   ]
  },
  {
   "cell_type": "code",
   "execution_count": 34,
   "metadata": {},
   "outputs": [
    {
     "name": "stdout",
     "output_type": "stream",
     "text": [
      "Found 2 rows with float values\n",
      "\n",
      "Sample of problematic rows:\n",
      "                                      Original Sentence  \\\n",
      "7703  He eventually established himself in northwest...   \n",
      "7704  He eventually established himself in northwest...   \n",
      "\n",
      "                                      Modified Sentence  \\\n",
      "7703  He was established in northwest Italy where he...   \n",
      "7704  Eventually he was disproven in northwest Italy...   \n",
      "\n",
      "                                      Modification Type semantic_relationship  \n",
      "7703  Predicted Relationship: entailment with 82.40%...                   NaN  \n",
      "7704  Predicted Relationship: contradiction with 94....                   NaN  \n",
      "\n",
      "After removing float values, DataFrame shape: (9993, 4)\n"
     ]
    }
   ],
   "source": [
    "# 第二个单元格：清理float值\n",
    "float_mask = df_paws['semantic_relationship'].apply(lambda x: isinstance(x, float))\n",
    "if float_mask.any():\n",
    "    print(f\"Found {float_mask.sum()} rows with float values\")\n",
    "    print(\"\\nSample of problematic rows:\")\n",
    "    print(df_paws[float_mask][['Original Sentence', 'Modified Sentence', 'Modification Type', 'semantic_relationship']].head())\n",
    "    \n",
    "    # 去除这些行\n",
    "    df_paws = df_paws[~float_mask]\n",
    "    print(f\"\\nAfter removing float values, DataFrame shape: {df_paws.shape}\")\n",
    "else:\n",
    "    print(\"No float values found in semantic_relationship column\")"
   ]
  },
  {
   "cell_type": "code",
   "execution_count": 35,
   "metadata": {},
   "outputs": [
    {
     "name": "stdout",
     "output_type": "stream",
     "text": [
      "Found 1737 rows with high confidence contradictions\n",
      "\n",
      "Sample of filtered data:\n",
      "                                    Original Sentence  \\\n",
      "14  Winarsky is a member of the IEEE , Phi Beta Ka...   \n",
      "17  In 1938 he became the government anthropologis...   \n",
      "23  Billy Billy Batson appeared in the first four ...   \n",
      "26  The solar approach to this requirement is the ...   \n",
      "44     Holly was musically influenced by Elton John .   \n",
      "\n",
      "                                semantic_relationship  \n",
      "14  Predicted Relationship: contradiction with 96....  \n",
      "17  Predicted Relationship: contradiction with 94....  \n",
      "23  Predicted Relationship: contradiction with 97....  \n",
      "26  Predicted Relationship: contradiction with 97....  \n",
      "44  Predicted Relationship: contradiction with 97....  \n"
     ]
    }
   ],
   "source": [
    "# 第三个单元格：筛选高置信度的contradiction记录\n",
    "mask = (df_paws['semantic_relationship'].str.contains('contradiction', na=False)) & \\\n",
    "       (df_paws['semantic_relationship'].apply(extract_confidence) > 90)\n",
    "\n",
    "high_confidence_contradictions = df_paws[mask]\n",
    "\n",
    "print(f\"Found {len(high_confidence_contradictions)} rows with high confidence contradictions\")\n",
    "print(\"\\nSample of filtered data:\")\n",
    "print(high_confidence_contradictions[['Original Sentence', 'semantic_relationship']].head())"
   ]
  },
  {
   "cell_type": "code",
   "execution_count": 36,
   "metadata": {},
   "outputs": [
    {
     "name": "stdout",
     "output_type": "stream",
     "text": [
      "Final paws result shape: (1737, 6)\n",
      "\n",
      "Sample of final results:\n",
      "                                   original_sentence  \\\n",
      "0  Winarsky is a member of the IEEE , Phi Beta Ka...   \n",
      "1  In 1938 he became the government anthropologis...   \n",
      "2  Billy Billy Batson appeared in the first four ...   \n",
      "3  The solar approach to this requirement is the ...   \n",
      "4     Holly was musically influenced by Elton John .   \n",
      "\n",
      "                                   modified_sentence  modification_type  \\\n",
      "0  Winarsky is a non-member of IEEE Phi Beta Kapp...            antonym   \n",
      "1  He became an anthropologist for the government...  polarity_negation   \n",
      "2  Billy Billy Batson appeared in the first 4 iss...                 RS   \n",
      "3  This requirement is an approach to using sun c...           hypernym   \n",
      "4  Ellington John was an unmusical influence on H...            antonym   \n",
      "\n",
      "                               semantic_relationship  \\\n",
      "0  Predicted Relationship: contradiction with 96....   \n",
      "1  Predicted Relationship: contradiction with 94....   \n",
      "2  Predicted Relationship: contradiction with 97....   \n",
      "3  Predicted Relationship: contradiction with 97....   \n",
      "4  Predicted Relationship: contradiction with 97....   \n",
      "\n",
      "                                          paraphrase      source_file  \n",
      "0  Winarsky is a member of ACM , the IEEE , the P...  output_paws.csv  \n",
      "1  In 1938 he became the Government Anthropologis...  output_paws.csv  \n",
      "2  Black Adam appeared in the first four issues o...  output_paws.csv  \n",
      "3  The solar approach to this requirement is the ...  output_paws.csv  \n",
      "4  Holly Holly was influenced musically by Elton ...  output_paws.csv  \n"
     ]
    }
   ],
   "source": [
    "# 第四个单元格：构建结果DataFrame\n",
    "paws_results = []\n",
    "for _, row in high_confidence_contradictions.iterrows():\n",
    "    original_sentence = row['Original Sentence']\n",
    "    # 在源文件中查找对应的sentence1和sentence2\n",
    "    matching_row = paws_source[paws_source['sentence1'] == original_sentence]\n",
    "    \n",
    "    if not matching_row.empty:\n",
    "        paws_results.append({\n",
    "            'original_sentence': original_sentence,\n",
    "            'modified_sentence': row['Modified Sentence'],\n",
    "            'modification_type': row['Modification Type'],\n",
    "            'semantic_relationship': row['semantic_relationship'],\n",
    "            'paraphrase': matching_row.iloc[0]['sentence2'],  # 使用sentence2作为paraphrase\n",
    "            'source_file': 'output_paws.csv'\n",
    "        })\n",
    "\n",
    "paws_df = pd.DataFrame(paws_results)\n",
    "print(f\"Final paws result shape: {paws_df.shape}\")\n",
    "print(\"\\nSample of final results:\")\n",
    "print(paws_df.head())"
   ]
  },
  {
   "cell_type": "code",
   "execution_count": 37,
   "metadata": {},
   "outputs": [
    {
     "name": "stdout",
     "output_type": "stream",
     "text": [
      "PAWS results saved to chatgpt_test_samples_paws_1737x6.csv\n"
     ]
    }
   ],
   "source": [
    "# 第五个单元格：保存PAWS结果\n",
    "paws_output_filename = f\"chatgpt_test_samples_paws_{paws_df.shape[0]}x{paws_df.shape[1]}.csv\"\n",
    "paws_df.to_csv(paws_output_filename, index=False)\n",
    "print(f\"PAWS results saved to {paws_output_filename}\")"
   ]
  },
  {
   "cell_type": "code",
   "execution_count": 38,
   "metadata": {},
   "outputs": [
    {
     "name": "stdout",
     "output_type": "stream",
     "text": [
      "=== 数据漏斗分析 ===\n",
      "原始样本总数: 11456\n",
      "高置信度样本数 (>90%): 11456 (100.00%)\n",
      "\n",
      "=== 高置信度样本的关系类型分布 ===\n",
      "contradiction: 11456 (100.00%)\n",
      "\n",
      "=== 高置信度样本的修改类型分布 ===\n",
      "polarity_negation: 4182 (36.50%)\n",
      "antonym: 3478 (30.36%)\n",
      "RS: 1757 (15.34%)\n",
      "RD: 1100 (9.60%)\n",
      "hypernym: 939 (8.20%)\n",
      "\n",
      "=== 关系类型与修改类型的交叉分析 ===\n",
      "\n",
      "每种关系类型中各修改类型的占比（%）：\n",
      "modification_type        RD         RS    antonym  hypernym  polarity_negation\n",
      "relationship_type                                                             \n",
      "contradiction      9.601955  15.336941  30.359637  8.196578          36.504888\n",
      "\n",
      "=== 各数据源的样本分布 ===\n",
      "output_sentences_all.csv: 3001 (26.20%)\n",
      "output_pack3.csv: 1709 (14.92%)\n",
      "output_pack2.csv: 1703 (14.87%)\n",
      "output_pack5.csv: 1699 (14.83%)\n",
      "output_pack1.csv: 1676 (14.63%)\n",
      "output_pack4.csv: 1668 (14.56%)\n"
     ]
    }
   ],
   "source": [
    "# Statistical Analysis Cell\n",
    "# 1. Read previously saved results\n",
    "chatgpt_df = pd.read_csv('chatgpt_test_samples_11456x6.csv')\n",
    "\n",
    "# 2. Function to extract confidence and relationship type\n",
    "def extract_relationship_and_confidence(text):\n",
    "    try:\n",
    "        # Extract relationship type\n",
    "        rel_type = text.split('Relationship: ')[1].split(' with')[0]\n",
    "        # Extract confidence\n",
    "        confidence = float(text.split('with ')[1].split('%')[0])\n",
    "        return pd.Series([rel_type, confidence])\n",
    "    except:\n",
    "        return pd.Series(['unknown', 0.0])\n",
    "\n",
    "# 3. Apply function and create new columns\n",
    "chatgpt_df[['relationship_type', 'confidence']] = chatgpt_df['semantic_relationship'].apply(extract_relationship_and_confidence)\n",
    "\n",
    "# 4. Filter high confidence samples (>90%)\n",
    "high_conf_df = chatgpt_df[chatgpt_df['confidence'] > 90]\n",
    "\n",
    "# 5. Statistical analysis\n",
    "print(\"=== Data Funnel Analysis ===\")\n",
    "print(f\"Total original samples: {len(chatgpt_df)}\")\n",
    "print(f\"High confidence samples (>90%): {len(high_conf_df)} ({len(high_conf_df)/len(chatgpt_df)*100:.2f}%)\")\n",
    "\n",
    "print(\"\\n=== Relationship Type Distribution for High Confidence Samples ===\")\n",
    "rel_type_stats = high_conf_df['relationship_type'].value_counts()\n",
    "for rel_type, count in rel_type_stats.items():\n",
    "    print(f\"{rel_type}: {count} ({count/len(high_conf_df)*100:.2f}%)\")\n",
    "\n",
    "print(\"\\n=== Modification Type Distribution for High Confidence Samples ===\")\n",
    "mod_type_stats = high_conf_df['modification_type'].value_counts()\n",
    "for mod_type, count in mod_type_stats.items():\n",
    "    print(f\"{mod_type}: {count} ({count/len(high_conf_df)*100:.2f}%)\")\n",
    "\n",
    "print(\"\\n=== Cross Analysis of Relationship Types and Modification Types ===\")\n",
    "cross_stats = pd.crosstab(high_conf_df['relationship_type'], \n",
    "                         high_conf_df['modification_type'], \n",
    "                         normalize='index') * 100\n",
    "print(\"\\nPercentage of modification types for each relationship type (%):\")\n",
    "print(cross_stats)\n",
    "\n",
    "# 6. Statistics by data source\n",
    "print(\"\\n=== Sample Distribution by Data Source ===\")\n",
    "source_stats = high_conf_df['source_file'].value_counts()\n",
    "for source, count in source_stats.items():\n",
    "    print(f\"{source}: {count} ({count/len(high_conf_df)*100:.2f}%)\")"
   ]
  },
  {
   "cell_type": "code",
   "execution_count": 41,
   "metadata": {},
   "outputs": [
    {
     "name": "stdout",
     "output_type": "stream",
     "text": [
      "=== 总体数据分析 ===\n",
      "总样本数: 43963\n",
      "\n",
      "=== 置信度 0-50% 的分布 ===\n",
      "样本数: 780 (1.77%)\n",
      "contradiction: 279 (35.77%)\n",
      "entailment: 264 (33.85%)\n",
      "neutral: 237 (30.38%)\n",
      "\n",
      "=== 置信度 50-70% 的分布 ===\n",
      "样本数: 3548 (8.07%)\n",
      "entailment: 1350 (38.05%)\n",
      "contradiction: 1183 (33.34%)\n",
      "neutral: 1015 (28.61%)\n",
      "\n",
      "=== 置信度 70-90% 的分布 ===\n",
      "样本数: 5355 (12.18%)\n",
      "entailment: 2164 (40.41%)\n",
      "contradiction: 1916 (35.78%)\n",
      "neutral: 1275 (23.81%)\n",
      "\n",
      "=== 置信度 90-100% 的分布 ===\n",
      "样本数: 34280 (77.97%)\n",
      "entailment: 20015 (58.39%)\n",
      "contradiction: 11663 (34.02%)\n",
      "neutral: 2602 (7.59%)\n",
      "\n",
      "高置信度样本的修改类型分布：\n",
      "polarity_negation: 7365 (21.48%)\n",
      "RD: 7216 (21.05%)\n",
      "antonym: 6818 (19.89%)\n",
      "hypernym: 6684 (19.50%)\n",
      "RS: 6197 (18.08%)\n"
     ]
    }
   ],
   "source": [
    "# Calculate distribution of all relationship types\n",
    "# 1. Read results from all pack files\n",
    "all_files_df = pd.DataFrame()\n",
    "for file in output_files:\n",
    "    temp_df = pd.read_csv(file, on_bad_lines='skip', encoding='utf-8')\n",
    "    all_files_df = pd.concat([all_files_df, temp_df])\n",
    "\n",
    "# 2. Clean float values\n",
    "float_mask = all_files_df['semantic_relationship'].apply(lambda x: isinstance(x, float))\n",
    "all_files_df = all_files_df[~float_mask]\n",
    "\n",
    "# 3. Extract relationship and confidence\n",
    "all_files_df[['relationship_type', 'confidence']] = all_files_df['semantic_relationship'].apply(extract_relationship_and_confidence)\n",
    "\n",
    "# 4. Group statistics by confidence\n",
    "confidence_ranges = [(0, 50), (50, 70), (70, 90), (90, 100)]\n",
    "\n",
    "print(\"=== Overall Data Analysis ===\")\n",
    "print(f\"Total samples: {len(all_files_df)}\")\n",
    "\n",
    "for min_conf, max_conf in confidence_ranges:\n",
    "    conf_mask = (all_files_df['confidence'] > min_conf) & (all_files_df['confidence'] <= max_conf)\n",
    "    conf_df = all_files_df[conf_mask]\n",
    "    \n",
    "    print(f\"\\n=== Distribution for confidence {min_conf}-{max_conf}% ===\")\n",
    "    print(f\"Sample count: {len(conf_df)} ({len(conf_df)/len(all_files_df)*100:.2f}%)\")\n",
    "    \n",
    "    rel_type_stats = conf_df['relationship_type'].value_counts()\n",
    "    for rel_type, count in rel_type_stats.items():\n",
    "        print(f\"{rel_type}: {count} ({count/len(conf_df)*100:.2f}%)\")\n",
    "        \n",
    "    # For high confidence samples, show additional modification type distribution\n",
    "    if min_conf == 90:\n",
    "        print(\"\\nModification type distribution for high confidence samples:\")\n",
    "        mod_type_stats = conf_df['Modification Type'].value_counts()\n",
    "        for mod_type, count in mod_type_stats.items():\n",
    "            print(f\"{mod_type}: {count} ({count/len(conf_df)*100:.2f}%)\")"
   ]
  }
 ],
 "metadata": {
  "kernelspec": {
   "display_name": "base",
   "language": "python",
   "name": "python3"
  },
  "language_info": {
   "codemirror_mode": {
    "name": "ipython",
    "version": 3
   },
   "file_extension": ".py",
   "mimetype": "text/x-python",
   "name": "python",
   "nbconvert_exporter": "python",
   "pygments_lexer": "ipython3",
   "version": "3.12.4"
  }
 },
 "nbformat": 4,
 "nbformat_minor": 2
}
